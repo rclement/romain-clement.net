{
 "cells": [
  {
   "cell_type": "code",
   "execution_count": 22,
   "id": "62c47b7c-1914-4455-b5d2-4e955496e091",
   "metadata": {
    "editable": true,
    "slideshow": {
     "slide_type": "skip"
    },
    "tags": []
   },
   "outputs": [],
   "source": [
    "import functools\n",
    "import itertools\n",
    "from pathlib import Path\n",
    "from typing import Iterable\n",
    "\n",
    "import pandas as pd"
   ]
  },
  {
   "cell_type": "markdown",
   "id": "5a606809-6a1a-48bc-918d-38a538ca53aa",
   "metadata": {
    "editable": true,
    "slideshow": {
     "slide_type": "slide"
    },
    "tags": []
   },
   "source": [
    "# 🐍 Pipelines de données fonctionnels avec Python\n",
    "\n",
    "> Implémenter des pipelines de traitement de données grâce aux concepts de programmation fonctionnelle inclus nativement avec Python\n",
    "\n",
    "_Romain Clement - Meetup Python Grenoble - 23/11/2023_"
   ]
  },
  {
   "cell_type": "markdown",
   "id": "3abc2146-4ffe-4f84-8c1b-c1d7f15be05f",
   "metadata": {
    "editable": true,
    "slideshow": {
     "slide_type": "slide"
    },
    "tags": []
   },
   "source": [
    "## 🤷‍♂️ Contexte\n",
    "\n",
    "- Essor du _Data Engineering_\n",
    "- Paradigme de _graphes orientés acycliques_ (_DAGs_)\n"
   ]
  },
  {
   "cell_type": "markdown",
   "id": "a3911bcd-711c-45aa-9f46-2ddaba8e56bb",
   "metadata": {
    "editable": true,
    "slideshow": {
     "slide_type": "slide"
    },
    "tags": []
   },
   "source": [
    "## ⚠️ Remarques\n",
    "\n",
    "- Proposition de patterns\n",
    "- Small / medium data\n",
    "- Programmation fonctionnelle _light_"
   ]
  },
  {
   "cell_type": "markdown",
   "id": "829abbbf-37f5-4a21-b580-e0c33c66aec0",
   "metadata": {
    "editable": true,
    "slideshow": {
     "slide_type": "slide"
    },
    "tags": []
   },
   "source": [
    "## ♽ DAG ?\n",
    "\n",
    "_**D**irected **A**cyclic **G**raph_\n",
    "\n",
    "(_Graphe Orienté Acyclique_)\n",
    "\n",
    "- Dépendances et ordre d'exécution\n",
    "- Modularité, réutilisabilité, testabilité\n",
    "- Pipelines et algorithmes"
   ]
  },
  {
   "cell_type": "markdown",
   "id": "ea9a42f1-3a99-4593-a3eb-f47ff4eccd2b",
   "metadata": {
    "editable": true,
    "slideshow": {
     "slide_type": "subslide"
    },
    "tags": []
   },
   "source": [
    "### ♽ DAG - Représentation\n",
    "\n",
    "```mermaid\n",
    "graph LR;\n",
    "    A-->B;\n",
    "    A-->C;\n",
    "    B-->D;\n",
    "    C-->D;\n",
    "```"
   ]
  },
  {
   "cell_type": "markdown",
   "id": "3630ee37-a035-4651-aa45-050f7d371fbc",
   "metadata": {
    "editable": true,
    "raw_mimetype": "",
    "slideshow": {
     "slide_type": "subslide"
    },
    "tags": []
   },
   "source": [
    "### ♽ DAG - Exemple 1\n",
    "\n",
    "```mermaid\n",
    "graph LR;\n",
    "    A[Compute some stuff];\n",
    "```"
   ]
  },
  {
   "cell_type": "markdown",
   "id": "259f9f45-cfaf-423c-babf-ccd2c56e40b9",
   "metadata": {
    "editable": true,
    "raw_mimetype": "",
    "slideshow": {
     "slide_type": "subslide"
    },
    "tags": []
   },
   "source": [
    "### ♽ DAG - Exemple 2 - Nettoyer un fichier CSV\n",
    "\n",
    "```mermaid\n",
    "graph LR;\n",
    "    A[Load CSV] -- Dataframe --> B[Clean Dataframe];\n",
    "    B -- Dataframe --> C[Save to CSV];\n",
    "```"
   ]
  },
  {
   "cell_type": "markdown",
   "id": "1efedb30-9ef2-4cea-9be0-d47b8fc74948",
   "metadata": {
    "editable": true,
    "raw_mimetype": "",
    "slideshow": {
     "slide_type": "subslide"
    },
    "tags": []
   },
   "source": [
    "### ♽ DAG - Exemple 2 - Nettoyer un fichier CSV\n",
    "\n",
    "```mermaid\n",
    "graph LR;\n",
    "    subgraph F[Process]\n",
    "        direction LR\n",
    "            A[Load CSV] -- Dataframe --> B[Clean Dataframe];\n",
    "            B -- Dataframe --> C[Save to CSV];\n",
    "    end\n",
    "    START[ ] -- Path --> A;\n",
    "    C -- Path --> END[ ];\n",
    "    style START fill:#FFFFFF00, stroke:#FFFFFF00;\n",
    "    style END fill:#FFFFFF00, stroke:#FFFFFF00;\n",
    "```"
   ]
  },
  {
   "cell_type": "markdown",
   "id": "1ac990ef-3c6b-49e8-8b1d-d43df1ec4a15",
   "metadata": {
    "editable": true,
    "raw_mimetype": "",
    "slideshow": {
     "slide_type": "subslide"
    },
    "tags": []
   },
   "source": [
    "### ♽ DAG - Exemple 3 - Web-scraping ETL\n",
    "\n",
    "```mermaid\n",
    "graph LR;\n",
    "    A[Extract data] --> B[Transform data];\n",
    "    A --> C[Compute metadata];\n",
    "    B --> D[Load data];\n",
    "    C --> D;\n",
    "```"
   ]
  },
  {
   "cell_type": "markdown",
   "id": "2a4ddb5d-868f-4aa3-b596-6ab4e7ae53b7",
   "metadata": {
    "editable": true,
    "slideshow": {
     "slide_type": "subslide"
    },
    "tags": []
   },
   "source": [
    "### ♽ DAG - Exemple 4 - Traitement de fichiers (streaming)\n",
    "\n",
    "```mermaid\n",
    "graph LR;\n",
    "    subgraph B[Per file process]\n",
    "        direction LR\n",
    "            B1[Read file] --> B2[Process file]\n",
    "    end\n",
    "    A[List files] -- files --> B1\n",
    "```"
   ]
  },
  {
   "cell_type": "markdown",
   "id": "a50f3c57-467b-4f20-b3a2-259fa8d090a7",
   "metadata": {
    "editable": true,
    "slideshow": {
     "slide_type": "subslide"
    },
    "tags": []
   },
   "source": [
    "### ♽ DAG - Exemple 5 - Machine Learning\n",
    "\n",
    "```mermaid\n",
    "graph LR;\n",
    "    A[Load dataset] --> B[Train / test split];\n",
    "    B -- train set --> C[Train model];\n",
    "    C -- model --> D[Evaluate model] & E[Register];\n",
    "    B -- test set --> D;\n",
    "    D -- metrics --> F[Log];\n",
    "```"
   ]
  },
  {
   "cell_type": "markdown",
   "id": "cd573dbc-be1a-4d90-857a-e939f47a25a7",
   "metadata": {
    "editable": true,
    "slideshow": {
     "slide_type": "slide"
    },
    "tags": []
   },
   "source": [
    "## ƛ Programmation Fonctionnelle\n",
    "\n",
    "Concepts utiles :\n",
    "\n",
    "- Tout est fonction\n",
    "- Fonctions pures\n",
    "- Immutabilité\n",
    "- Composition\n",
    "- Réutilisabilité (_Curryfication_)\n",
    "- Evaluation paresseuse"
   ]
  },
  {
   "cell_type": "markdown",
   "id": "0871233e-6620-453a-ad14-ad2404991692",
   "metadata": {
    "editable": true,
    "slideshow": {
     "slide_type": "subslide"
    },
    "tags": []
   },
   "source": [
    "### ƛ Concepts fonctionnels en Python\n",
    "\n",
    "Disponible nativement :\n",
    "\n",
    "- Fonctions: `def`\n",
    "- Fonctions d'ordre supérieur: `map`, `filter`, `itertools.reduce`, `lambda`\n",
    "- Réutilisabilité: `functools.partial`\n",
    "- Evaluation paresseuse: `yield`, `itertools.tee`\n",
    "- Typage faible: `typing`"
   ]
  },
  {
   "cell_type": "markdown",
   "id": "c6185bde-9fc4-4fb4-84e8-d71ae8013d9d",
   "metadata": {
    "editable": true,
    "slideshow": {
     "slide_type": "subslide"
    },
    "tags": []
   },
   "source": [
    "### ƛ Concepts fonctionnels en Python\n",
    "\n",
    "Non disponible nativement :\n",
    "\n",
    "- Composition de fonctions\n",
    "- Structures de données complexes immutables\n",
    "- Typage fort (~)"
   ]
  },
  {
   "cell_type": "markdown",
   "id": "e589302c-541c-4e0c-83d3-06d3b05ff52b",
   "metadata": {
    "editable": true,
    "slideshow": {
     "slide_type": "slide"
    },
    "tags": []
   },
   "source": [
    "## ✨ DAGs + Programmation Fonctionnelle\n",
    "\n",
    "<!--\n",
    "    Demonstrate how to leverage functional programming concepts to build data pipelines in Python.\n",
    "    Explore the use of map, filter, and reduce functions for processing data in a functional manner.\n",
    "    Discuss the benefits of using functools.partial for creating partially applied functions.\n",
    "    Showcase the power of generators and iterators for handling large datasets efficiently.\n",
    "    Explain the concept of lazy evaluation and how it can improve the performance of data pipelines.\n",
    "-->"
   ]
  },
  {
   "cell_type": "markdown",
   "id": "3a5e07a4-b832-464f-bea9-16a281921431",
   "metadata": {
    "editable": true,
    "slideshow": {
     "slide_type": ""
    },
    "tags": []
   },
   "source": [
    "## Suite\n",
    "<!--\n",
    "Examples and Code Walkthrough (5 minutes)\n",
    "\n",
    "    Provide practical examples of writing DAGs using functional programming concepts.\n",
    "    Walk through code snippets to illustrate the application of map, filter, reduce, functools.partial, generators, iterators, and lazy evaluation in building data pipelines.\n",
    "\n",
    "Advantages and Drawbacks (2 minutes)\n",
    "\n",
    "    Summarize the advantages of using functional data pipelines in Python:\n",
    "        Readability and maintainability of code.\n",
    "        Improved composability and reusability of functions.\n",
    "        Efficient handling of large datasets through lazy evaluation.\n",
    "    Discuss potential drawbacks or challenges:\n",
    "        Learning curve for those unfamiliar with functional programming.\n",
    "        Potential performance trade-offs in certain scenarios.\n",
    "\n",
    "Conclusion (2 minutes)\n",
    "\n",
    "    Recap the key points discussed in the talk.\n",
    "    Emphasize the power and flexibility of functional programming in designing data pipelines.\n",
    "    Encourage attendees to explore and experiment with functional programming concepts in their own data processing workflows.\n",
    "-->"
   ]
  },
  {
   "cell_type": "code",
   "execution_count": 11,
   "id": "581f9cf7-aeff-4522-9247-fa2d9b89e70f",
   "metadata": {
    "editable": true,
    "slideshow": {
     "slide_type": ""
    },
    "tags": []
   },
   "outputs": [],
   "source": [
    "def list_files(directory: Path) -> list[Path]:\n",
    "    return list(directory.glob(\"*.jpg\"))\n",
    "\n",
    "def read_file(filepath: Path) -> bytes:\n",
    "    return filepath.read_bytes()\n",
    "\n",
    "def process_file(content: bytes) -> None:\n",
    "    ...\n",
    "\n",
    "def imperative_pipeline():\n",
    "    for filepath in list_files(\"mydir\"):\n",
    "        process_file(read_file(filepath))"
   ]
  },
  {
   "cell_type": "code",
   "execution_count": null,
   "id": "1d610574-7c0b-4421-865e-3478afdf7c8f",
   "metadata": {
    "editable": true,
    "slideshow": {
     "slide_type": ""
    },
    "tags": []
   },
   "outputs": [],
   "source": [
    "def streaming_pipeline():\n",
    "    map(process_file, map(read_file, list_files))"
   ]
  },
  {
   "cell_type": "code",
   "execution_count": 9,
   "id": "973652d9-3804-43fd-a913-561fe022ad2c",
   "metadata": {
    "editable": true,
    "slideshow": {
     "slide_type": ""
    },
    "tags": []
   },
   "outputs": [],
   "source": [
    "def load_csv(filename: str) -> pd.DataFrame:\n",
    "    return pd.read_csv(filename)\n",
    "\n",
    "def clean_csv(data: pd.DataFrame) -> pd.DataFrame:\n",
    "    return data.dropna()\n",
    "\n",
    "def save_csv(filename: str, data: pd.DataFrame) -> None:\n",
    "    data.to_csv(filename)\n",
    "\n",
    "def clean_csv_pipeline():\n",
    "    save_csv(\"output.csv\", clean_csv(load_csv(\"input.csv\")))"
   ]
  },
  {
   "cell_type": "markdown",
   "id": "5e7ce798-5147-4a15-8ff6-ba53ac8ae978",
   "metadata": {
    "editable": true,
    "raw_mimetype": "",
    "slideshow": {
     "slide_type": ""
    },
    "tags": []
   },
   "source": [
    "## Réutilisabilité"
   ]
  },
  {
   "cell_type": "code",
   "execution_count": 21,
   "id": "f1a0edfe-1d36-452b-a3fe-305a80f2a570",
   "metadata": {
    "editable": true,
    "slideshow": {
     "slide_type": ""
    },
    "tags": []
   },
   "outputs": [],
   "source": [
    "class APIClient: ...\n",
    "\n",
    "def get_api_key() -> str: ...\n",
    "\n",
    "def api_client(api_key: str) -> APIClient: ...\n",
    "\n",
    "def api_get_file(client: APIClient, filename: str) -> bytes: ...\n",
    "\n",
    "def main():\n",
    "    client = api_client(get_api_key())\n",
    "    get_file = functools.partial(api_get_file, client)\n",
    "    get_file(\"file1\")\n",
    "    get_file(\"file2\")"
   ]
  },
  {
   "cell_type": "markdown",
   "id": "34969ec7-daa0-47e5-baf2-4fa9ebc5b8b7",
   "metadata": {
    "editable": true,
    "slideshow": {
     "slide_type": ""
    },
    "tags": []
   },
   "source": [
    "## Evaluation paresseuse"
   ]
  },
  {
   "cell_type": "code",
   "execution_count": 24,
   "id": "e3dcc96e-38d6-4f2d-997e-25d38f88fcde",
   "metadata": {
    "editable": true,
    "slideshow": {
     "slide_type": ""
    },
    "tags": []
   },
   "outputs": [],
   "source": [
    "def list_files() -> Iterable[Path]:\n",
    "    return Path().glob(\"*\")\n",
    "\n",
    "def open_file(filepath: Path) -> bytes:\n",
    "    return filepath.read_bytes()\n",
    "\n",
    "def streaming_pipeline() -> None:\n",
    "    files1, files2 = itertools.tee(list_files(), 2)\n",
    "    list(map(len, map(open_file, files1)))\n",
    "    list(map(print, files2))"
   ]
  },
  {
   "cell_type": "markdown",
   "id": "d34658ee-038d-4541-9d9a-c000fd4af07d",
   "metadata": {
    "editable": true,
    "slideshow": {
     "slide_type": ""
    },
    "tags": []
   },
   "source": [
    "## 👍 Avantages\n",
    "\n",
    "- Fonctions Python pures\n",
    "- Graphes de traitement avec style fonctionnel\n",
    "- Force une conception générique\n",
    "- Unités de traitement paramétrables et réutilisables\n",
    "- Données volumineuses bénéficient du streaming avec les générateurs\n",
    "- Le traitement des générateurs par évaluation paresseuse\n",
    "- Test facilité\n",
    "- Traitement parallèle possible"
   ]
  },
  {
   "cell_type": "markdown",
   "id": "d4d9f355-9754-44b7-bc5a-8a724e88103b",
   "metadata": {
    "editable": true,
    "slideshow": {
     "slide_type": ""
    },
    "tags": []
   },
   "source": [
    "## 👎 Limitations\n",
    "\n",
    "- Matérialisation des générateurs\n",
    "- Résultats intermédiaires\n",
    "- Introspection"
   ]
  },
  {
   "cell_type": "markdown",
   "id": "c92a041a-8e10-448f-878a-e60bfcce631b",
   "metadata": {
    "editable": true,
    "slideshow": {
     "slide_type": "slide"
    },
    "tags": []
   },
   "source": [
    "## 🚀 Pour aller plus loin\n",
    "\n",
    "Orchestrateurs:\n",
    "- Airflow\n",
    "- Dagster\n",
    "- Prefect\n",
    "- Spark\n",
    "\n",
    "Bibliothèques:\n",
    "- [`toolz`](https://toolz.readthedocs.io)\n",
    "- [`functional-pipeline`](https://functional-pipeline.readthedocs.io)"
   ]
  },
  {
   "cell_type": "markdown",
   "id": "bba215b5-8e3d-4ea8-a5c8-b265a861e772",
   "metadata": {
    "editable": true,
    "slideshow": {
     "slide_type": ""
    },
    "tags": []
   },
   "source": [
    "## References\n",
    "\n",
    "- [`itertools`](https://docs.python.org/3/library/itertools.html)\n",
    "- [`functools`](https://docs.python.org/3/library/functools.html)"
   ]
  }
 ],
 "metadata": {
  "kernelspec": {
   "display_name": "Python 3 (ipykernel)",
   "language": "python",
   "name": "python3"
  },
  "language_info": {
   "codemirror_mode": {
    "name": "ipython",
    "version": 3
   },
   "file_extension": ".py",
   "mimetype": "text/x-python",
   "name": "python",
   "nbconvert_exporter": "python",
   "pygments_lexer": "ipython3",
   "version": "3.10.11"
  }
 },
 "nbformat": 4,
 "nbformat_minor": 5
}
