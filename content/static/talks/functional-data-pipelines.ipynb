{
 "cells": [
  {
   "cell_type": "code",
   "execution_count": 1,
   "id": "62c47b7c-1914-4455-b5d2-4e955496e091",
   "metadata": {
    "editable": true,
    "slideshow": {
     "slide_type": "skip"
    },
    "tags": []
   },
   "outputs": [],
   "source": [
    "import functools\n",
    "import itertools\n",
    "from pathlib import Path\n",
    "from typing import Iterable\n",
    "\n",
    "import pandas as pd"
   ]
  },
  {
   "cell_type": "markdown",
   "id": "5a606809-6a1a-48bc-918d-38a538ca53aa",
   "metadata": {
    "editable": true,
    "slideshow": {
     "slide_type": "slide"
    },
    "tags": []
   },
   "source": [
    "# 🐍 Pipelines de données fonctionnels avec Python\n",
    "\n",
    "> Implémenter des pipelines de traitement de données grâce aux concepts de programmation fonctionnelle inclus nativement avec Python\n",
    "\n",
    "_Romain Clement - Meetup Python Grenoble - 23/11/2023_"
   ]
  },
  {
   "cell_type": "markdown",
   "id": "3abc2146-4ffe-4f84-8c1b-c1d7f15be05f",
   "metadata": {
    "editable": true,
    "slideshow": {
     "slide_type": "slide"
    },
    "tags": []
   },
   "source": [
    "## 🤷‍♂️ Contexte\n",
    "\n",
    "- Essor du _Data Engineering_\n",
    "- Paradigme de _graphes orientés acycliques_ (_DAGs_)\n",
    "- Programmation fonctionnelle en Python\n",
    "- Modularité, déterminisme, testabilité"
   ]
  },
  {
   "cell_type": "markdown",
   "id": "a3911bcd-711c-45aa-9f46-2ddaba8e56bb",
   "metadata": {
    "editable": true,
    "slideshow": {
     "slide_type": "slide"
    },
    "tags": []
   },
   "source": [
    "## ⚠️ Remarques\n",
    "\n",
    "- Proposition de patterns\n",
    "- Small / medium data\n",
    "- Programmation fonctionnelle _light_"
   ]
  },
  {
   "cell_type": "markdown",
   "id": "829abbbf-37f5-4a21-b580-e0c33c66aec0",
   "metadata": {
    "editable": true,
    "slideshow": {
     "slide_type": "slide"
    },
    "tags": []
   },
   "source": [
    "## ⚙️ DAG ?\n",
    "\n",
    "_**D**irected **A**cyclic **G**raph_\n",
    "\n",
    "- Graphe : noeuds + arêtes\n",
    "- Orienté : ~arêtes~ arcs\n",
    "- Acyclique : pas de circuits"
   ]
  },
  {
   "cell_type": "markdown",
   "id": "ea9a42f1-3a99-4593-a3eb-f47ff4eccd2b",
   "metadata": {
    "editable": true,
    "slideshow": {
     "slide_type": "subslide"
    },
    "tags": []
   },
   "source": [
    "### ⚙️ DAG - Représentation\n",
    "\n",
    "```mermaid\n",
    "graph LR;\n",
    "    A-->B;\n",
    "    A-->C;\n",
    "    B-->D;\n",
    "    C-->D;\n",
    "```"
   ]
  },
  {
   "cell_type": "markdown",
   "id": "402f5023-9814-4803-96c3-e0062de6e19d",
   "metadata": {
    "editable": true,
    "slideshow": {
     "slide_type": "subslide"
    },
    "tags": []
   },
   "source": [
    "### ⚙️ DAG - Avantages\n",
    "\n",
    "- Dépendances et ordre d'exécution\n",
    "- Modularité, réutilisabilité, testabilité\n",
    "- Pipelines et algorithmes"
   ]
  },
  {
   "cell_type": "markdown",
   "id": "3630ee37-a035-4651-aa45-050f7d371fbc",
   "metadata": {
    "editable": true,
    "raw_mimetype": "",
    "slideshow": {
     "slide_type": "subslide"
    },
    "tags": []
   },
   "source": [
    "### ⚙️ DAG - Exemple 1\n",
    "\n",
    "```mermaid\n",
    "graph LR;\n",
    "    A[Compute some stuff];\n",
    "```"
   ]
  },
  {
   "cell_type": "markdown",
   "id": "259f9f45-cfaf-423c-babf-ccd2c56e40b9",
   "metadata": {
    "editable": true,
    "raw_mimetype": "",
    "slideshow": {
     "slide_type": "subslide"
    },
    "tags": []
   },
   "source": [
    "### ⚙️ DAG - Exemple 2 - Nettoyer un fichier CSV\n",
    "\n",
    "```mermaid\n",
    "graph LR;\n",
    "    A[Load CSV] -- Dataframe --> B[Clean Dataframe];\n",
    "    B -- Dataframe --> C[Save to CSV];\n",
    "```"
   ]
  },
  {
   "cell_type": "markdown",
   "id": "1efedb30-9ef2-4cea-9be0-d47b8fc74948",
   "metadata": {
    "editable": true,
    "raw_mimetype": "",
    "slideshow": {
     "slide_type": "subslide"
    },
    "tags": []
   },
   "source": [
    "### ⚙️ DAG - Exemple 2 - Nettoyer un fichier CSV\n",
    "\n",
    "```mermaid\n",
    "graph LR;\n",
    "    subgraph F[Process]\n",
    "        direction LR\n",
    "            A[Load CSV] -- Dataframe --> B[Clean Dataframe];\n",
    "            B -- Dataframe --> C[Save to CSV];\n",
    "    end\n",
    "    START[ ] -- Path --> A;\n",
    "    C -- Path --> END[ ];\n",
    "    style START fill:#FFFFFF00, stroke:#FFFFFF00;\n",
    "    style END fill:#FFFFFF00, stroke:#FFFFFF00;\n",
    "```"
   ]
  },
  {
   "cell_type": "markdown",
   "id": "1ac990ef-3c6b-49e8-8b1d-d43df1ec4a15",
   "metadata": {
    "editable": true,
    "raw_mimetype": "",
    "slideshow": {
     "slide_type": "subslide"
    },
    "tags": []
   },
   "source": [
    "### ⚙️ DAG - Exemple 3 - Web-scraping ETL\n",
    "\n",
    "```mermaid\n",
    "graph LR;\n",
    "    A[Extract data] -- Dataframe --> B[Transform data];\n",
    "    A -- Dataframe --> C[Compute metadata];\n",
    "    B -- Dataframe --> D[Load data];\n",
    "    C -- Dict[str, Any] --> D;\n",
    "```"
   ]
  },
  {
   "cell_type": "markdown",
   "id": "2a4ddb5d-868f-4aa3-b596-6ab4e7ae53b7",
   "metadata": {
    "editable": true,
    "slideshow": {
     "slide_type": "subslide"
    },
    "tags": []
   },
   "source": [
    "### ⚙️ DAG - Exemple 4 - Traitement de fichiers (streaming)\n",
    "\n",
    "```mermaid\n",
    "graph LR;\n",
    "    subgraph B[Per file process]\n",
    "        direction LR\n",
    "            B1[Read file] --> B2[Process file]\n",
    "    end\n",
    "    A[List files] -- files --> B1\n",
    "```"
   ]
  },
  {
   "cell_type": "markdown",
   "id": "a50f3c57-467b-4f20-b3a2-259fa8d090a7",
   "metadata": {
    "editable": true,
    "slideshow": {
     "slide_type": "subslide"
    },
    "tags": []
   },
   "source": [
    "### ⚙️ DAG - Exemple 5 - Machine Learning\n",
    "\n",
    "```mermaid\n",
    "graph LR;\n",
    "    A[Load dataset] --> B[Train / test split];\n",
    "    B -- train set --> C[Train model];\n",
    "    C -- model --> D[Evaluate model] & E[Register];\n",
    "    B -- test set --> D;\n",
    "    D -- metrics --> F[Log];\n",
    "```"
   ]
  },
  {
   "cell_type": "markdown",
   "id": "cd573dbc-be1a-4d90-857a-e939f47a25a7",
   "metadata": {
    "editable": true,
    "slideshow": {
     "slide_type": "slide"
    },
    "tags": []
   },
   "source": [
    "## ƛ Programmation Fonctionnelle\n",
    "\n",
    "Concepts utiles :\n",
    "\n",
    "- Tout est fonction\n",
    "- Immutabilité\n",
    "- Composition\n",
    "- Réutilisabilité (_Curryfication_)\n",
    "- Evaluation paresseuse"
   ]
  },
  {
   "cell_type": "markdown",
   "id": "0871233e-6620-453a-ad14-ad2404991692",
   "metadata": {
    "editable": true,
    "slideshow": {
     "slide_type": "subslide"
    },
    "tags": []
   },
   "source": [
    "### ƛ Concepts fonctionnels en Python\n",
    "\n",
    "Disponible nativement :\n",
    "\n",
    "- Fonctions: `def`\n",
    "- Fonctions d'ordre supérieur: `map()`, `filter()`, `itertools.reduce()`, `lambda`\n",
    "- Réutilisabilité: `functools.partial()`\n",
    "- Evaluation paresseuse: `yield`, `itertools.tee()`\n",
    "- Typage (faible): `typing`"
   ]
  },
  {
   "cell_type": "markdown",
   "id": "c6185bde-9fc4-4fb4-84e8-d71ae8013d9d",
   "metadata": {
    "editable": true,
    "slideshow": {
     "slide_type": "subslide"
    },
    "tags": []
   },
   "source": [
    "### ƛ Concepts fonctionnels en Python\n",
    "\n",
    "Non disponible nativement :\n",
    "\n",
    "- Composition de fonctions\n",
    "- Structures de données complexes immutables\n",
    "- Typage fort (~)"
   ]
  },
  {
   "cell_type": "markdown",
   "id": "e589302c-541c-4e0c-83d3-06d3b05ff52b",
   "metadata": {
    "editable": true,
    "slideshow": {
     "slide_type": "skip"
    },
    "tags": []
   },
   "source": [
    "## ✨ DAGs + Programmation Fonctionnelle\n",
    "\n",
    "<!--\n",
    "    Demonstrate how to leverage functional programming concepts to build data pipelines in Python.\n",
    "    Explore the use of map, filter, and reduce functions for processing data in a functional manner.\n",
    "    Discuss the benefits of using functools.partial for creating partially applied functions.\n",
    "    Showcase the power of generators and iterators for handling large datasets efficiently.\n",
    "    Explain the concept of lazy evaluation and how it can improve the performance of data pipelines.\n",
    "-->"
   ]
  },
  {
   "cell_type": "markdown",
   "id": "3a5e07a4-b832-464f-bea9-16a281921431",
   "metadata": {
    "editable": true,
    "slideshow": {
     "slide_type": "slide"
    },
    "tags": []
   },
   "source": [
    "## 👨‍💻 Mise en pratique\n",
    "\n",
    "Essayons de fusionner les concepts de DAGs et programmation fonctionnelle !\n",
    "\n",
    "<!--\n",
    "Examples and Code Walkthrough (5 minutes)\n",
    "\n",
    "    Provide practical examples of writing DAGs using functional programming concepts.\n",
    "    Walk through code snippets to illustrate the application of map, filter, reduce, functools.partial, generators, iterators, and lazy evaluation in building data pipelines.\n",
    "\n",
    "Advantages and Drawbacks (2 minutes)\n",
    "\n",
    "    Summarize the advantages of using functional data pipelines in Python:\n",
    "        Readability and maintainability of code.\n",
    "        Improved composability and reusability of functions.\n",
    "        Efficient handling of large datasets through lazy evaluation.\n",
    "    Discuss potential drawbacks or challenges:\n",
    "        Learning curve for those unfamiliar with functional programming.\n",
    "        Potential performance trade-offs in certain scenarios.\n",
    "\n",
    "Conclusion (2 minutes)\n",
    "\n",
    "    Recap the key points discussed in the talk.\n",
    "    Emphasize the power and flexibility of functional programming in designing data pipelines.\n",
    "    Encourage attendees to explore and experiment with functional programming concepts in their own data processing workflows.\n",
    "-->"
   ]
  },
  {
   "cell_type": "markdown",
   "id": "5e7ce798-5147-4a15-8ff6-ba53ac8ae978",
   "metadata": {
    "editable": true,
    "raw_mimetype": "",
    "slideshow": {
     "slide_type": "subslide"
    },
    "tags": []
   },
   "source": [
    "### ♻ Réutilisabilité\n",
    "\n",
    "- Fonctions paramétrables\n",
    "- _Curryfication_\n",
    "- `functools.partial`"
   ]
  },
  {
   "cell_type": "code",
   "execution_count": 2,
   "id": "e41e5d18-8233-4339-9094-3690ebf75c1f",
   "metadata": {
    "editable": true,
    "slideshow": {
     "slide_type": "subslide"
    },
    "tags": []
   },
   "outputs": [],
   "source": [
    "def load_csv(filename: str, separator: str = \",\") -> pd.DataFrame:\n",
    "    return pd.read_csv(filename, sep=separator)"
   ]
  },
  {
   "cell_type": "code",
   "execution_count": 3,
   "id": "cdc5219d-2035-4f53-aaa0-e698f427605a",
   "metadata": {
    "editable": true,
    "slideshow": {
     "slide_type": "fragment"
    },
    "tags": []
   },
   "outputs": [],
   "source": [
    "def simple_process_csv() -> None:\n",
    "    load_csv(\"data.csv\")"
   ]
  },
  {
   "cell_type": "code",
   "execution_count": 4,
   "id": "ebfed734-606f-4dcf-935a-1964ba1b5a7e",
   "metadata": {
    "editable": true,
    "slideshow": {
     "slide_type": "fragment"
    },
    "tags": []
   },
   "outputs": [],
   "source": [
    "load_tsv = functools.partial(load_csv, separator=\"\\t\")"
   ]
  },
  {
   "cell_type": "code",
   "execution_count": 5,
   "id": "5ade85df-0874-49cb-aae9-81b1d4cc99e6",
   "metadata": {
    "editable": true,
    "slideshow": {
     "slide_type": "fragment"
    },
    "tags": []
   },
   "outputs": [],
   "source": [
    "def simple_process_tsv() -> None:\n",
    "    load_tsv(\"data.tsv\")"
   ]
  },
  {
   "cell_type": "markdown",
   "id": "5627bb7d-363d-4b41-813e-cd488bf57055",
   "metadata": {
    "editable": true,
    "slideshow": {
     "slide_type": "subslide"
    },
    "tags": []
   },
   "source": [
    "### ⛓ Composabilité\n",
    "\n",
    "- Chaînage de fonctions\n",
    "- `functools.partial`\n",
    "- `functools.reduce`"
   ]
  },
  {
   "cell_type": "code",
   "execution_count": 6,
   "id": "973652d9-3804-43fd-a913-561fe022ad2c",
   "metadata": {
    "editable": true,
    "slideshow": {
     "slide_type": "subslide"
    },
    "tags": []
   },
   "outputs": [],
   "source": [
    "def load_csv(filename: str, separator: str = \",\") -> pd.DataFrame:\n",
    "    return pd.read_csv(filename)\n",
    "\n",
    "def clean_csv(data: pd.DataFrame) -> pd.DataFrame:\n",
    "    return data.dropna()\n",
    "\n",
    "def save_csv(filename: str, data: pd.DataFrame) -> None:\n",
    "    data.to_csv(filename)"
   ]
  },
  {
   "cell_type": "code",
   "execution_count": 7,
   "id": "de7a0203-b4b4-4a45-ba63-c3aa9f7ab7c8",
   "metadata": {
    "editable": true,
    "slideshow": {
     "slide_type": "subslide"
    },
    "tags": []
   },
   "outputs": [],
   "source": [
    "def pipeline_imperative(input_csv: Path, output_csv: Path) -> None:\n",
    "    input_data = load_csv(input_csv)\n",
    "    clean_data = clean_csv(input_data)\n",
    "    save_csv(output_csv, clean_data)"
   ]
  },
  {
   "cell_type": "code",
   "execution_count": 8,
   "id": "3546b788-8cc2-466c-b737-7e1f2983abd0",
   "metadata": {
    "editable": true,
    "slideshow": {
     "slide_type": "fragment"
    },
    "tags": []
   },
   "outputs": [],
   "source": [
    "def pipeline_functional(input_csv: Path, output_csv: Path) -> None:\n",
    "    save_csv(output_csv, clean_csv(load_csv(input_csv)))"
   ]
  },
  {
   "cell_type": "code",
   "execution_count": 9,
   "id": "0c48b39e-f328-4f5b-8064-e8fb747052cc",
   "metadata": {
    "editable": true,
    "slideshow": {
     "slide_type": "fragment"
    },
    "tags": []
   },
   "outputs": [],
   "source": [
    "def compose(*functions):\n",
    "    return functools.reduce(\n",
    "        lambda f, g: lambda x: f(g(x)),\n",
    "        functions,\n",
    "        lambda x: x,\n",
    "    )\n",
    "\n",
    "def pipeline_compose(input_csv: Path, output_csv: Path) -> None:\n",
    "    dag = compose(\n",
    "        functools.partial(save_csv, output_csv),\n",
    "        clean_csv,\n",
    "        load_csv,\n",
    "    )\n",
    "    dag(input_csv)"
   ]
  },
  {
   "cell_type": "markdown",
   "id": "34969ec7-daa0-47e5-baf2-4fa9ebc5b8b7",
   "metadata": {
    "editable": true,
    "slideshow": {
     "slide_type": "subslide"
    },
    "tags": []
   },
   "source": [
    "### 💤 Evaluation paresseuse\n",
    "\n",
    "- Streaming\n",
    "- Générateurs\n",
    "- `map`\n",
    "- `itertools.tee`\n",
    "- `list`"
   ]
  },
  {
   "cell_type": "code",
   "execution_count": 10,
   "id": "e3dcc96e-38d6-4f2d-997e-25d38f88fcde",
   "metadata": {
    "editable": true,
    "slideshow": {
     "slide_type": "subslide"
    },
    "tags": []
   },
   "outputs": [],
   "source": [
    "def list_files() -> Iterable[Path]:\n",
    "    return Path().glob(\"*.png\")\n",
    "\n",
    "def open_file(filepath: Path) -> bytes:\n",
    "    return filepath.read_bytes()\n",
    "\n",
    "def process_data(data: bytes) -> int:\n",
    "    return len(data)"
   ]
  },
  {
   "cell_type": "code",
   "execution_count": 11,
   "id": "797a59c4-32b5-4f4d-a0aa-a67ffd5453f7",
   "metadata": {
    "editable": true,
    "slideshow": {
     "slide_type": "subslide"
    },
    "tags": []
   },
   "outputs": [],
   "source": [
    "def streaming_imperative() -> None:\n",
    "    files = list_files()\n",
    "    files_bytes = map(open_file, files)\n",
    "    files_len = map(process_data, files_bytes)\n",
    "    print(list(files_len))"
   ]
  },
  {
   "cell_type": "code",
   "execution_count": 12,
   "id": "ebb5b315-dbc5-4d1d-81bb-62e89fdfcd38",
   "metadata": {
    "editable": true,
    "slideshow": {
     "slide_type": "fragment"
    },
    "tags": []
   },
   "outputs": [],
   "source": [
    "def streaming_functional() -> None:\n",
    "    files_len = map(process_data, map(open_file, list_files()))\n",
    "    print(list(files_len))"
   ]
  },
  {
   "cell_type": "code",
   "execution_count": 13,
   "id": "f0cf1502-e8a7-43fa-87a3-ec31fc2fcef2",
   "metadata": {
    "editable": true,
    "slideshow": {
     "slide_type": "fragment"
    },
    "tags": []
   },
   "outputs": [],
   "source": [
    "def streaming_multiple() -> None:\n",
    "    files1, files2 = itertools.tee(list_files(), 2)\n",
    "    list(map(process_data, map(open_file, files1)))\n",
    "    list(map(print, files2))"
   ]
  },
  {
   "cell_type": "markdown",
   "id": "d34658ee-038d-4541-9d9a-c000fd4af07d",
   "metadata": {
    "editable": true,
    "slideshow": {
     "slide_type": "slide"
    },
    "tags": []
   },
   "source": [
    "## 👍 Avantages\n",
    "\n",
    "- Fonctions Python pures\n",
    "- Graphes de traitement avec style fonctionnel\n",
    "- Force une conception générique\n",
    "- Unités de traitement paramétrables et réutilisables\n",
    "- Données volumineuses bénéficient du streaming avec les générateurs\n",
    "- Traitement des générateurs par évaluation paresseuse\n",
    "- Test facilité\n",
    "- Traitement parallèle possible (`concurrent.futures`)"
   ]
  },
  {
   "cell_type": "markdown",
   "id": "d4d9f355-9754-44b7-bc5a-8a724e88103b",
   "metadata": {
    "editable": true,
    "slideshow": {
     "slide_type": "slide"
    },
    "tags": []
   },
   "source": [
    "## 👎 Limitations\n",
    "\n",
    "- Courbe d'apprentissage\n",
    "- Balance de performance\n",
    "- Composition de fonctions\n",
    "- Matérialisation des générateurs\n",
    "- Résultats intermédiaires\n",
    "- Introspection"
   ]
  },
  {
   "cell_type": "markdown",
   "id": "c92a041a-8e10-448f-878a-e60bfcce631b",
   "metadata": {
    "editable": true,
    "slideshow": {
     "slide_type": "slide"
    },
    "tags": []
   },
   "source": [
    "## 🚀 Pour aller plus loin\n",
    "\n",
    "Orchestrateurs:\n",
    "- Airflow\n",
    "- Dagster\n",
    "- Prefect\n",
    "- Spark\n",
    "\n",
    "Bibliothèques:\n",
    "- [`toolz`](https://toolz.readthedocs.io)\n",
    "- [`functional-pipeline`](https://functional-pipeline.readthedocs.io)"
   ]
  },
  {
   "cell_type": "markdown",
   "id": "ce0ef40e-8f0b-418f-803e-1def130ab789",
   "metadata": {
    "editable": true,
    "slideshow": {
     "slide_type": "slide"
    },
    "tags": []
   },
   "source": [
    "## 🏁 Conclusion\n",
    "\n",
    "Expérimentez avec vos propres workflows !\n",
    "\n",
    "Questions ?"
   ]
  },
  {
   "cell_type": "markdown",
   "id": "bba215b5-8e3d-4ea8-a5c8-b265a861e772",
   "metadata": {
    "editable": true,
    "slideshow": {
     "slide_type": "slide"
    },
    "tags": []
   },
   "source": [
    "## 📚 Références\n",
    "\n",
    "- [Wikipedia - Directed Acyclic Graph](https://en.wikipedia.org/wiki/Directed_acyclic_graph)\n",
    "- [Function composition in Python](https://mathieularose.com/function-composition-in-python)\n",
    "- [Mimicking Immutability in Python with Type Hints](https://justincaustin.com/blog/mimicking-immutability-python-type-hints/)\n",
    "- [`itertools`](https://docs.python.org/3/library/itertools.html)\n",
    "- [`functools`](https://docs.python.org/3/library/functools.html)"
   ]
  }
 ],
 "metadata": {
  "kernelspec": {
   "display_name": "Python 3 (ipykernel)",
   "language": "python",
   "name": "python3"
  },
  "language_info": {
   "codemirror_mode": {
    "name": "ipython",
    "version": 3
   },
   "file_extension": ".py",
   "mimetype": "text/x-python",
   "name": "python",
   "nbconvert_exporter": "python",
   "pygments_lexer": "ipython3",
   "version": "3.10.11"
  }
 },
 "nbformat": 4,
 "nbformat_minor": 5
}
