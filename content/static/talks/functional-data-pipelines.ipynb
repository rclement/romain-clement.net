{
 "cells": [
  {
   "cell_type": "code",
   "execution_count": 1,
   "id": "62c47b7c-1914-4455-b5d2-4e955496e091",
   "metadata": {
    "editable": true,
    "slideshow": {
     "slide_type": "skip"
    },
    "tags": []
   },
   "outputs": [],
   "source": [
    "import functools\n",
    "import itertools\n",
    "from pathlib import Path\n",
    "from typing import Iterable\n",
    "\n",
    "import pandas as pd"
   ]
  },
  {
   "cell_type": "markdown",
   "id": "5a606809-6a1a-48bc-918d-38a538ca53aa",
   "metadata": {
    "editable": true,
    "slideshow": {
     "slide_type": "slide"
    },
    "tags": []
   },
   "source": [
    "# 🐍 Pipelines de données fonctionnels avec Python\n",
    "\n",
    "> Implémenter des pipelines de traitement de données grâce aux concepts de programmation fonctionnelle inclus nativement avec Python\n",
    "\n",
    "_Romain Clement - Meetup Python Grenoble - 23/11/2023_"
   ]
  },
  {
   "cell_type": "markdown",
   "id": "3abc2146-4ffe-4f84-8c1b-c1d7f15be05f",
   "metadata": {
    "editable": true,
    "slideshow": {
     "slide_type": "slide"
    },
    "tags": []
   },
   "source": [
    "## 🤷‍♂️ Contexte\n",
    "\n",
    "- Essor du _Data Engineering_\n",
    "- Paradigme de _graphes orientés acycliques_ (_DAGs_)\n",
    "- Programmation fonctionnelle en Python\n",
    "- Modularité, déterminisme, testabilité"
   ]
  },
  {
   "cell_type": "markdown",
   "id": "dcbf0f79-0653-4aef-9dc1-c709d256daa9",
   "metadata": {
    "editable": true,
    "slideshow": {
     "slide_type": "notes"
    },
    "tags": []
   },
   "source": [
    "Pourquoi parler de pipelines de données fonctionnels en Python ?"
   ]
  },
  {
   "cell_type": "markdown",
   "id": "a3911bcd-711c-45aa-9f46-2ddaba8e56bb",
   "metadata": {
    "editable": true,
    "slideshow": {
     "slide_type": "slide"
    },
    "tags": []
   },
   "source": [
    "## ⚠️ Remarques\n",
    "\n",
    "- Proposition de patterns\n",
    "- Small / medium data\n",
    "- Programmation fonctionnelle _light_"
   ]
  },
  {
   "cell_type": "markdown",
   "id": "4a35d077-7b77-4d7e-b483-b5c7a3ded39f",
   "metadata": {
    "editable": true,
    "slideshow": {
     "slide_type": "notes"
    },
    "tags": []
   },
   "source": [
    "Quelques remarques avant de commencer :\n",
    "\n",
    "Ce que je vais vous monter est simplement une proposition de patterns que je trouve intéressants et applicables dans divers contextes.\n",
    "\n",
    "Ces patterns étant sur le calcul en mémoire, il s'appliquent principalement sur du volume de données petit ou moyen, mais pas au big data (bien que certains concepts se recoupent).\n",
    "\n",
    "Enfin, nous allons parler de programmation fonctionnelle mais à un niveau relativement haut, donc pas d'inquiétude si vous n'êtes pas expert !"
   ]
  },
  {
   "cell_type": "markdown",
   "id": "829abbbf-37f5-4a21-b580-e0c33c66aec0",
   "metadata": {
    "editable": true,
    "slideshow": {
     "slide_type": "slide"
    },
    "tags": []
   },
   "source": [
    "## ⚙️ DAG ?\n",
    "\n",
    "_**D**irected **A**cyclic **G**raph_\n",
    "\n",
    "- Graphe : noeuds + arêtes\n",
    "- Orienté : ~arêtes~ arcs\n",
    "- Acyclique : pas de circuits"
   ]
  },
  {
   "cell_type": "markdown",
   "id": "8bc7455e-ccfd-4274-8c33-86980fa6d0ce",
   "metadata": {
    "editable": true,
    "slideshow": {
     "slide_type": "notes"
    },
    "tags": []
   },
   "source": [
    "Qu'est-ce qu'un DAG ou graphe orienté acyclique ?"
   ]
  },
  {
   "cell_type": "markdown",
   "id": "ea9a42f1-3a99-4593-a3eb-f47ff4eccd2b",
   "metadata": {
    "editable": true,
    "slideshow": {
     "slide_type": "subslide"
    },
    "tags": []
   },
   "source": [
    "### ⚙️ DAG - Représentation\n",
    "\n",
    "```mermaid\n",
    "graph LR;\n",
    "    A-->B;\n",
    "    A-->C;\n",
    "    B-->D;\n",
    "    C-->D;\n",
    "```"
   ]
  },
  {
   "cell_type": "markdown",
   "id": "451410b6-7018-4861-b774-2903f8dcf553",
   "metadata": {
    "editable": true,
    "slideshow": {
     "slide_type": "notes"
    },
    "tags": []
   },
   "source": [
    "Voici un exemple de représentation de DAG. On remarque les propriétés énoncées précédemment :\n",
    "\n",
    "- Des tâches à effectuer représentées par des _noeuds_\n",
    "- Les dépendances d'exécution entre les tâches sont matérialisées par des arcs\n",
    "- Il n'y a pas de dépendances cycliques entre les tâches"
   ]
  },
  {
   "cell_type": "markdown",
   "id": "402f5023-9814-4803-96c3-e0062de6e19d",
   "metadata": {
    "editable": true,
    "slideshow": {
     "slide_type": "subslide"
    },
    "tags": []
   },
   "source": [
    "### ⚙️ DAG - Avantages\n",
    "\n",
    "- Dépendances et ordre d'exécution\n",
    "- Modularité, réutilisabilité, testabilité\n",
    "- Pipelines et algorithmes"
   ]
  },
  {
   "cell_type": "markdown",
   "id": "d071e843-a6a6-4359-a474-33d87cc898d3",
   "metadata": {
    "editable": true,
    "slideshow": {
     "slide_type": "notes"
    },
    "tags": []
   },
   "source": [
    "Alors pourquoi s'embêter à exprimer un problème en le représentant sous la forme de graphe orienté acyclique ?"
   ]
  },
  {
   "cell_type": "markdown",
   "id": "3630ee37-a035-4651-aa45-050f7d371fbc",
   "metadata": {
    "editable": true,
    "raw_mimetype": "",
    "slideshow": {
     "slide_type": "subslide"
    },
    "tags": []
   },
   "source": [
    "### ⚙️ DAG - Exemple 1\n",
    "\n",
    "```mermaid\n",
    "graph LR;\n",
    "    A[Compute some stuff];\n",
    "```"
   ]
  },
  {
   "cell_type": "markdown",
   "id": "88c4f2c6-1de1-40f3-9605-73c7f60060b3",
   "metadata": {
    "editable": true,
    "slideshow": {
     "slide_type": "notes"
    },
    "tags": []
   },
   "source": [
    "Le DAG le plus simple que l'on puisse représenter !\n",
    "\n",
    "Une seule tâche à effectuer, sans dépendances. C'est un cas particulier mais il est quand même bon de le noter."
   ]
  },
  {
   "cell_type": "markdown",
   "id": "259f9f45-cfaf-423c-babf-ccd2c56e40b9",
   "metadata": {
    "editable": true,
    "raw_mimetype": "",
    "slideshow": {
     "slide_type": "subslide"
    },
    "tags": []
   },
   "source": [
    "### ⚙️ DAG - Exemple 2 - Nettoyer un fichier CSV\n",
    "\n",
    "```mermaid\n",
    "graph LR;\n",
    "    A[Load CSV] -- Dataframe --> B[Clean Dataframe];\n",
    "    B -- Dataframe --> C[Save to CSV];\n",
    "```"
   ]
  },
  {
   "cell_type": "markdown",
   "id": "87cc94a4-4731-4a76-9d12-6ea07e22d40d",
   "metadata": {
    "editable": true,
    "slideshow": {
     "slide_type": "notes"
    },
    "tags": []
   },
   "source": [
    "Un second exemple un peu plus représentatif :\n",
    "- Une première tâche permet de charger un fichier CSV dans un Dataframe (Pandas)\n",
    "- Puis une seconde tâche nettoie ce Dataframe (ex : formatage des dates)\n",
    "- Enfin une troisième tâche sauvegarde ce Dataframe dans un nouveau fichier CSV\n",
    "\n",
    "Pour les personnes dans le domaine de la Data, c'est le schéma typique de ce que l'on appelle un processus ETL (Extract Transform and Load)."
   ]
  },
  {
   "cell_type": "markdown",
   "id": "1efedb30-9ef2-4cea-9be0-d47b8fc74948",
   "metadata": {
    "editable": true,
    "raw_mimetype": "",
    "slideshow": {
     "slide_type": "subslide"
    },
    "tags": []
   },
   "source": [
    "### ⚙️ DAG - Exemple 2bis - Nettoyer un fichier CSV\n",
    "\n",
    "```mermaid\n",
    "graph LR;\n",
    "    subgraph F[Process]\n",
    "        direction LR\n",
    "            A[Load CSV] -- Dataframe --> B[Clean Dataframe];\n",
    "            B -- Dataframe --> C[Save to CSV];\n",
    "    end\n",
    "    START[ ] -- Path --> A;\n",
    "    C -- Path --> END[ ];\n",
    "    style START fill:#FFFFFF00, stroke:#FFFFFF00;\n",
    "    style END fill:#FFFFFF00, stroke:#FFFFFF00;\n",
    "```"
   ]
  },
  {
   "cell_type": "markdown",
   "id": "c04fbeba-deaa-4a2d-9dd5-85d170491540",
   "metadata": {
    "editable": true,
    "slideshow": {
     "slide_type": "notes"
    },
    "tags": []
   },
   "source": [
    "Même exemple que précédemment mais avec une petite subtilité : le graphe devient paramétrable et devient par la même occasion intégrable comme une sous-tâche d'un plus grand système !\n",
    "\n",
    "Cet exemple vous montre que la représentation en graphe peut s'appliquer à différents niveaux d'une architecture logicielle :\n",
    "- Algorithmique\n",
    "- Applicatif\n",
    "- Système\n",
    "- etc."
   ]
  },
  {
   "cell_type": "markdown",
   "id": "1ac990ef-3c6b-49e8-8b1d-d43df1ec4a15",
   "metadata": {
    "editable": true,
    "raw_mimetype": "",
    "slideshow": {
     "slide_type": "subslide"
    },
    "tags": []
   },
   "source": [
    "### ⚙️ DAG - Exemple 3 - Web-scraping ETL\n",
    "\n",
    "```mermaid\n",
    "graph LR;\n",
    "    A[Extract data] -- Dataframe --> B[Transform data];\n",
    "    A -- Dataframe --> C[Compute metadata];\n",
    "    B -- Dataframe --> D[Load data];\n",
    "    C -- Dict[str, Any] --> D;\n",
    "```"
   ]
  },
  {
   "cell_type": "markdown",
   "id": "164ff306-de7a-40f9-87c3-9e7328f98ccf",
   "metadata": {
    "editable": true,
    "slideshow": {
     "slide_type": "notes"
    },
    "tags": []
   },
   "source": [
    "Dans cet exemple, on modélisation un processus de web-scraping.\n",
    "\n",
    "Assez semblable au précédent, on remarque des chemins parallèles cette fois-ci : la sortie d'une tâche peut être utilisée par plusieurs tâches. Gardez bien ce concept en tête pour la suite !"
   ]
  },
  {
   "cell_type": "markdown",
   "id": "2a4ddb5d-868f-4aa3-b596-6ab4e7ae53b7",
   "metadata": {
    "editable": true,
    "slideshow": {
     "slide_type": "subslide"
    },
    "tags": []
   },
   "source": [
    "### ⚙️ DAG - Exemple 4 - Traitement de fichiers (streaming)\n",
    "\n",
    "```mermaid\n",
    "graph LR;\n",
    "    subgraph B[Per file process]\n",
    "        direction LR\n",
    "            B1[Read file] --> B2[Process file]\n",
    "    end\n",
    "    A[List files] -- files --> B1\n",
    "```"
   ]
  },
  {
   "cell_type": "markdown",
   "id": "830bde64-5864-4171-ab1a-ae2472c85dc5",
   "metadata": {
    "editable": true,
    "slideshow": {
     "slide_type": "notes"
    },
    "tags": []
   },
   "source": [
    "Autre exemple un peu plus complexe : certains traitements nécessite un flux en streaming, c'est à dire que l'on traite des données au fur et à mesure, au lieu de charger toutes les données en mémoire puis de tout traiter d'un bloc.\n",
    "\n",
    "C'est généralement utile lorsque les données sont volumineuses ou bien qu'une source de données est _IO bound_.\n",
    "\n",
    "Avec ce type de modélisation en streaming, notre pipeline devient potentiellement compatible avec la mise en concurrence de tâches (ex : asyncio ou Python Threads)."
   ]
  },
  {
   "cell_type": "markdown",
   "id": "a50f3c57-467b-4f20-b3a2-259fa8d090a7",
   "metadata": {
    "editable": true,
    "slideshow": {
     "slide_type": "subslide"
    },
    "tags": []
   },
   "source": [
    "### ⚙️ DAG - Exemple 5 - Machine Learning\n",
    "\n",
    "```mermaid\n",
    "graph LR;\n",
    "    A[Load dataset] --> B[Train / test split];\n",
    "    B -- train set --> C[Train model];\n",
    "    C -- model --> D[Evaluate model] & E[Register];\n",
    "    B -- test set --> D;\n",
    "    D -- metrics --> F[Log];\n",
    "```"
   ]
  },
  {
   "cell_type": "markdown",
   "id": "3a9e3270-884a-4373-99c1-36837ca07503",
   "metadata": {
    "editable": true,
    "slideshow": {
     "slide_type": "notes"
    },
    "tags": []
   },
   "source": [
    "Terminons avec un dernier exemple avec lequel les Data Scientists seront déjà familiers : un entrainement de modèle par apprentissage automatique (machine learning).\n",
    "\n",
    "On retrouve les structures énoncées précédemment dans un exemple complet."
   ]
  },
  {
   "cell_type": "markdown",
   "id": "cd573dbc-be1a-4d90-857a-e939f47a25a7",
   "metadata": {
    "editable": true,
    "slideshow": {
     "slide_type": "slide"
    },
    "tags": []
   },
   "source": [
    "## ƛ Programmation Fonctionnelle\n",
    "\n",
    "Concepts utiles :\n",
    "\n",
    "- Tout est fonction\n",
    "- Immutabilité\n",
    "- Composition\n",
    "- Réutilisabilité (_Curryfication_)\n",
    "- Evaluation paresseuse"
   ]
  },
  {
   "cell_type": "markdown",
   "id": "dc270e1a-ee7e-4e4e-8aee-be5c9d6ea028",
   "metadata": {
    "editable": true,
    "slideshow": {
     "slide_type": "notes"
    },
    "tags": []
   },
   "source": [
    "Passons rapidement en revue quelques concepts utiles de programmation fonctionnelle qui nous serons utiles pour la suite. Bien évidemment, le monde de la PF est bien plus important."
   ]
  },
  {
   "cell_type": "markdown",
   "id": "0871233e-6620-453a-ad14-ad2404991692",
   "metadata": {
    "editable": true,
    "slideshow": {
     "slide_type": "subslide"
    },
    "tags": []
   },
   "source": [
    "### ƛ Concepts fonctionnels en Python\n",
    "\n",
    "Disponible nativement :\n",
    "\n",
    "- Fonctions: `def`\n",
    "- Fonctions d'ordre supérieur: `map()`, `filter()`, `itertools.reduce()`, `lambda`\n",
    "- Réutilisabilité: `functools.partial()`\n",
    "- Evaluation paresseuse: `yield`, `itertools.tee()`\n",
    "- Typage (faible): `typing`"
   ]
  },
  {
   "cell_type": "markdown",
   "id": "cf85707a-7f16-4236-8456-80d2821d7be0",
   "metadata": {
    "editable": true,
    "slideshow": {
     "slide_type": "notes"
    },
    "tags": []
   },
   "source": [
    "Le langage Python est multi-paradigme : impérative, orienté-objet mais aussi fonctionnel !\n",
    "\n",
    "D'ailleurs, il suffit de voir ce que le langage et la bibliothèque standard inclus nativement.\n",
    "\n",
    "Egalement, contrairement aux croyances, le langage est typé ! Le typage dynamique bien connu est un effet de bord des références nommées mais derrière le rideau, les objets sont bel et bien fortement typés !\n",
    "\n",
    "Remarque pour le typage faible : les annotation de type en Python ne sont pas évaluées à l'exécution ! La vérification de types doit s'effecteur en amont grâce à un validateur tel que `mypy`. Le typage reste faible car non appliqué à l'exécution mais "
   ]
  },
  {
   "cell_type": "markdown",
   "id": "c6185bde-9fc4-4fb4-84e8-d71ae8013d9d",
   "metadata": {
    "editable": true,
    "slideshow": {
     "slide_type": "subslide"
    },
    "tags": []
   },
   "source": [
    "### ƛ Concepts fonctionnels en Python\n",
    "\n",
    "Non disponible nativement :\n",
    "\n",
    "- Composition de fonctions\n",
    "- Structures de données complexes immutables\n",
    "- Typage fort (~)"
   ]
  },
  {
   "cell_type": "markdown",
   "id": "dbd5785e-e42b-4154-92d8-1881a9722241",
   "metadata": {
    "editable": true,
    "slideshow": {
     "slide_type": "notes"
    },
    "tags": []
   },
   "source": [
    "Néanmoins, certains concepts qui pourraient nous être utiles ne sont pas inclus nativement et c'est bien dommage !\n",
    "\n",
    "Immutabilité : couplé avec des annotations de type (Sequence, Mapping, frozenset, frozen dataclasses) on peut s'en rapprocher au moment de la validation !"
   ]
  },
  {
   "cell_type": "markdown",
   "id": "3a5e07a4-b832-464f-bea9-16a281921431",
   "metadata": {
    "editable": true,
    "slideshow": {
     "slide_type": "slide"
    },
    "tags": []
   },
   "source": [
    "## 👨‍💻 Mise en pratique\n",
    "\n",
    "Essayons de fusionner les concepts de DAGs et programmation fonctionnelle !"
   ]
  },
  {
   "cell_type": "markdown",
   "id": "c22ae016-250b-498d-b790-1070a7637576",
   "metadata": {
    "editable": true,
    "slideshow": {
     "slide_type": "notes"
    },
    "tags": []
   },
   "source": [
    "Examples and Code Walkthrough (5 minutes)\n",
    "\n",
    "    Provide practical examples of writing DAGs using functional programming concepts.\n",
    "    Walk through code snippets to illustrate the application of map, filter, reduce, functools.partial, generators, iterators, and lazy evaluation in building data pipelines.\n",
    "\n",
    "Advantages and Drawbacks (2 minutes)\n",
    "\n",
    "    Summarize the advantages of using functional data pipelines in Python:\n",
    "        Readability and maintainability of code.\n",
    "        Improved composability and reusability of functions.\n",
    "        Efficient handling of large datasets through lazy evaluation.\n",
    "    Discuss potential drawbacks or challenges:\n",
    "        Learning curve for those unfamiliar with functional programming.\n",
    "        Potential performance trade-offs in certain scenarios.\n",
    "\n",
    "Conclusion (2 minutes)\n",
    "\n",
    "    Recap the key points discussed in the talk.\n",
    "    Emphasize the power and flexibility of functional programming in designing data pipelines.\n",
    "    Encourage attendees to explore and experiment with functional programming concepts in their own data processing workflows."
   ]
  },
  {
   "cell_type": "markdown",
   "id": "5e7ce798-5147-4a15-8ff6-ba53ac8ae978",
   "metadata": {
    "editable": true,
    "raw_mimetype": "",
    "slideshow": {
     "slide_type": "subslide"
    },
    "tags": []
   },
   "source": [
    "### ♻ Réutilisabilité\n",
    "\n",
    "- Fonctions paramétrables\n",
    "- _Curryfication_\n",
    "- `functools.partial`"
   ]
  },
  {
   "cell_type": "markdown",
   "id": "8f4ecf80-f780-436d-88dd-220055bdae5f",
   "metadata": {
    "editable": true,
    "slideshow": {
     "slide_type": "notes"
    },
    "tags": []
   },
   "source": [
    "Commençons avec la propriété de réutilisabilité car il sera réutilisée dans tous les autres exemples.\n",
    "\n",
    "Le besoin général est de pouvoir définir des fonctions paramétrables utilisables dans plusieurs contextes : un bloc de traitement d'un graphe pourrait servir dans un autre graphe.\n",
    "\n",
    "La PF permet ce genre de chose avec le concept de Curryfication (Currying) : définir une fonction pré-paramétrée pour quelle soit utilisée par la suite.\n",
    "\n",
    "En Python, `functools.partial` permet ce type de construction.\n",
    "Voyons comment s'en servir avec un exemple."
   ]
  },
  {
   "cell_type": "code",
   "execution_count": 2,
   "id": "e41e5d18-8233-4339-9094-3690ebf75c1f",
   "metadata": {
    "editable": true,
    "slideshow": {
     "slide_type": "subslide"
    },
    "tags": []
   },
   "outputs": [],
   "source": [
    "def load_csv(filename: str, separator: str = \",\") -> pd.DataFrame:\n",
    "    return pd.read_csv(filename, sep=separator)"
   ]
  },
  {
   "cell_type": "code",
   "execution_count": 3,
   "id": "cdc5219d-2035-4f53-aaa0-e698f427605a",
   "metadata": {
    "editable": true,
    "slideshow": {
     "slide_type": "fragment"
    },
    "tags": []
   },
   "outputs": [],
   "source": [
    "def simple_process_csv() -> None:\n",
    "    load_csv(\"data.csv\")"
   ]
  },
  {
   "cell_type": "code",
   "execution_count": 4,
   "id": "ebfed734-606f-4dcf-935a-1964ba1b5a7e",
   "metadata": {
    "editable": true,
    "slideshow": {
     "slide_type": "fragment"
    },
    "tags": []
   },
   "outputs": [],
   "source": [
    "load_tsv = functools.partial(load_csv, separator=\"\\t\")"
   ]
  },
  {
   "cell_type": "code",
   "execution_count": 5,
   "id": "5ade85df-0874-49cb-aae9-81b1d4cc99e6",
   "metadata": {
    "editable": true,
    "slideshow": {
     "slide_type": "fragment"
    },
    "tags": []
   },
   "outputs": [],
   "source": [
    "def simple_process_tsv() -> None:\n",
    "    load_tsv(\"data.tsv\")"
   ]
  },
  {
   "cell_type": "markdown",
   "id": "5627bb7d-363d-4b41-813e-cd488bf57055",
   "metadata": {
    "editable": true,
    "slideshow": {
     "slide_type": "subslide"
    },
    "tags": []
   },
   "source": [
    "### ⛓ Composabilité\n",
    "\n",
    "- Chaînage de fonctions\n",
    "- `functools.partial`\n",
    "- `functools.reduce`"
   ]
  },
  {
   "cell_type": "markdown",
   "id": "0ae0afd0-02ce-4778-a554-8ffcb79870af",
   "metadata": {
    "editable": true,
    "slideshow": {
     "slide_type": "notes"
    },
    "tags": []
   },
   "source": [
    "Peut être l'aspect le plus connu de la programmation fonctionnelle : pouvoir chainer les fonctions les unes aux autres !\n",
    "\n",
    "En Python, la composabilité n'est pas supportée nativement mais voyons comment cela se présente :"
   ]
  },
  {
   "cell_type": "code",
   "execution_count": 6,
   "id": "973652d9-3804-43fd-a913-561fe022ad2c",
   "metadata": {
    "editable": true,
    "slideshow": {
     "slide_type": "subslide"
    },
    "tags": []
   },
   "outputs": [],
   "source": [
    "def load_csv(filename: str, separator: str = \",\") -> pd.DataFrame:\n",
    "    return pd.read_csv(filename)\n",
    "\n",
    "def clean_csv(data: pd.DataFrame) -> pd.DataFrame:\n",
    "    return data.dropna()\n",
    "\n",
    "def save_csv(filename: str, data: pd.DataFrame) -> None:\n",
    "    data.to_csv(filename)"
   ]
  },
  {
   "cell_type": "code",
   "execution_count": 7,
   "id": "de7a0203-b4b4-4a45-ba63-c3aa9f7ab7c8",
   "metadata": {
    "editable": true,
    "slideshow": {
     "slide_type": "subslide"
    },
    "tags": []
   },
   "outputs": [],
   "source": [
    "def pipeline_imperative(input_csv: Path, output_csv: Path) -> None:\n",
    "    input_data = load_csv(input_csv)\n",
    "    clean_data = clean_csv(input_data)\n",
    "    save_csv(output_csv, clean_data)"
   ]
  },
  {
   "cell_type": "code",
   "execution_count": 8,
   "id": "3546b788-8cc2-466c-b737-7e1f2983abd0",
   "metadata": {
    "editable": true,
    "slideshow": {
     "slide_type": "fragment"
    },
    "tags": []
   },
   "outputs": [],
   "source": [
    "def pipeline_functional(input_csv: Path, output_csv: Path) -> None:\n",
    "    save_csv(output_csv, clean_csv(load_csv(input_csv)))"
   ]
  },
  {
   "cell_type": "code",
   "execution_count": 9,
   "id": "0c48b39e-f328-4f5b-8064-e8fb747052cc",
   "metadata": {
    "editable": true,
    "slideshow": {
     "slide_type": "fragment"
    },
    "tags": []
   },
   "outputs": [],
   "source": [
    "def compose(*functions):\n",
    "    return functools.reduce(\n",
    "        lambda f, g: lambda x: f(g(x)),\n",
    "        functions,\n",
    "        lambda x: x,\n",
    "    )\n",
    "\n",
    "def pipeline_compose(input_csv: Path, output_csv: Path) -> None:\n",
    "    dag = compose(\n",
    "        functools.partial(save_csv, output_csv),\n",
    "        clean_csv,\n",
    "        load_csv,\n",
    "    )\n",
    "    dag(input_csv)"
   ]
  },
  {
   "cell_type": "markdown",
   "id": "34969ec7-daa0-47e5-baf2-4fa9ebc5b8b7",
   "metadata": {
    "editable": true,
    "slideshow": {
     "slide_type": "subslide"
    },
    "tags": []
   },
   "source": [
    "### 💤 Evaluation paresseuse\n",
    "\n",
    "- Streaming\n",
    "- Générateurs\n",
    "- `map`\n",
    "- `itertools.tee`\n",
    "- `list`"
   ]
  },
  {
   "cell_type": "markdown",
   "id": "a3215a5a-2e61-4a9e-ae78-cfa2e4ee5b6d",
   "metadata": {
    "editable": true,
    "slideshow": {
     "slide_type": "notes"
    },
    "tags": []
   },
   "source": [
    "Dernier concept permettant de faire le lien entre tous et surement le plus puissant pour les graphes : l'évaluation paresseuse (lazy evaluation) ! Mais ce n'est pas sans problème ...\n",
    "\n",
    "Evaluer une entité uniquement lorsque l'on en a besoin permet de mettre en place un flux de données en streaming. En Python, cela passe par l'utilisation des _générateurs_.\n",
    "\n",
    "Le problème avec l'évaluation paresseuse est que l'on ne peut plus forcément chainer les fonctions entre elles telles quelles. Python fourni la fonction `map` qui permet d'appliquer une fonction à un itérable (un générateur est un itérable, mais l'inverse n'est pas forcément vrai).\n",
    "\n",
    "Autre problème : comment utiliser un itérable par deux ou plusieurs tâches suivantes ? La fonction `itertools.tee` permet de dupliquer l'itérateur autant de fois que nécessaire.\n",
    "\n",
    "Enfin, le problème de l'évaluation paresseuse est qu'il faut un déclencheur de sa matérialisation : généralement en Python la construction d'une liste final permet de déclencher la chaine d'évaluation."
   ]
  },
  {
   "cell_type": "code",
   "execution_count": 10,
   "id": "e3dcc96e-38d6-4f2d-997e-25d38f88fcde",
   "metadata": {
    "editable": true,
    "slideshow": {
     "slide_type": "subslide"
    },
    "tags": []
   },
   "outputs": [],
   "source": [
    "def list_files() -> Iterable[Path]:\n",
    "    return Path().glob(\"*.png\")\n",
    "\n",
    "def open_file(filepath: Path) -> bytes:\n",
    "    return filepath.read_bytes()\n",
    "\n",
    "def process_data(data: bytes) -> int:\n",
    "    return len(data)"
   ]
  },
  {
   "cell_type": "code",
   "execution_count": 11,
   "id": "797a59c4-32b5-4f4d-a0aa-a67ffd5453f7",
   "metadata": {
    "editable": true,
    "slideshow": {
     "slide_type": "subslide"
    },
    "tags": []
   },
   "outputs": [],
   "source": [
    "def streaming_imperative() -> None:\n",
    "    files = list_files()\n",
    "    files_bytes = map(open_file, files)\n",
    "    files_len = map(process_data, files_bytes)\n",
    "    print(list(files_len))"
   ]
  },
  {
   "cell_type": "code",
   "execution_count": 12,
   "id": "ebb5b315-dbc5-4d1d-81bb-62e89fdfcd38",
   "metadata": {
    "editable": true,
    "slideshow": {
     "slide_type": "fragment"
    },
    "tags": []
   },
   "outputs": [],
   "source": [
    "def streaming_functional() -> None:\n",
    "    files_len = map(process_data, map(open_file, list_files()))\n",
    "    print(list(files_len))"
   ]
  },
  {
   "cell_type": "code",
   "execution_count": 13,
   "id": "f0cf1502-e8a7-43fa-87a3-ec31fc2fcef2",
   "metadata": {
    "editable": true,
    "slideshow": {
     "slide_type": "fragment"
    },
    "tags": []
   },
   "outputs": [],
   "source": [
    "def streaming_multiple() -> None:\n",
    "    files1, files2 = itertools.tee(list_files(), 2)\n",
    "    list(map(process_data, map(open_file, files1)))\n",
    "    list(map(print, files2))"
   ]
  },
  {
   "cell_type": "markdown",
   "id": "d34658ee-038d-4541-9d9a-c000fd4af07d",
   "metadata": {
    "editable": true,
    "slideshow": {
     "slide_type": "slide"
    },
    "tags": []
   },
   "source": [
    "## 👍 Avantages\n",
    "\n",
    "- Fonctions Python pures\n",
    "- Graphes de traitement avec style fonctionnel\n",
    "- Force une conception générique\n",
    "- Unités de traitement paramétrables et réutilisables\n",
    "- Données volumineuses bénéficient du streaming avec les générateurs\n",
    "- Traitement des générateurs par évaluation paresseuse\n",
    "- Test facilité\n",
    "- Traitement concurrent / parallèle possible (`concurrent.futures`)"
   ]
  },
  {
   "cell_type": "markdown",
   "id": "d4d9f355-9754-44b7-bc5a-8a724e88103b",
   "metadata": {
    "editable": true,
    "slideshow": {
     "slide_type": "slide"
    },
    "tags": []
   },
   "source": [
    "## 👎 Limitations\n",
    "\n",
    "- Courbe d'apprentissage\n",
    "- Balance de performance\n",
    "- Composition de fonctions\n",
    "- Matérialisation des générateurs\n",
    "- Résultats intermédiaires\n",
    "- Introspection"
   ]
  },
  {
   "cell_type": "markdown",
   "id": "c92a041a-8e10-448f-878a-e60bfcce631b",
   "metadata": {
    "editable": true,
    "slideshow": {
     "slide_type": "slide"
    },
    "tags": []
   },
   "source": [
    "## 🚀 Pour aller plus loin\n",
    "\n",
    "Orchestrateurs:\n",
    "- Airflow\n",
    "- Dagster\n",
    "- Prefect\n",
    "- Spark\n",
    "\n",
    "Bibliothèques:\n",
    "- [`toolz`](https://toolz.readthedocs.io)\n",
    "- [`functional-pipeline`](https://functional-pipeline.readthedocs.io)"
   ]
  },
  {
   "cell_type": "markdown",
   "id": "ce0ef40e-8f0b-418f-803e-1def130ab789",
   "metadata": {
    "editable": true,
    "slideshow": {
     "slide_type": "slide"
    },
    "tags": []
   },
   "source": [
    "## 🏁 Conclusion\n",
    "\n",
    "Expérimentez avec vos propres workflows !\n",
    "\n",
    "Questions ?"
   ]
  },
  {
   "cell_type": "markdown",
   "id": "bba215b5-8e3d-4ea8-a5c8-b265a861e772",
   "metadata": {
    "editable": true,
    "slideshow": {
     "slide_type": "slide"
    },
    "tags": []
   },
   "source": [
    "## 📚 Références\n",
    "\n",
    "- [Wikipedia - Directed Acyclic Graph](https://en.wikipedia.org/wiki/Directed_acyclic_graph)\n",
    "- [Function composition in Python](https://mathieularose.com/function-composition-in-python)\n",
    "- [Mimicking Immutability in Python with Type Hints](https://justincaustin.com/blog/mimicking-immutability-python-type-hints/)\n",
    "- [`itertools`](https://docs.python.org/3/library/itertools.html)\n",
    "- [`functools`](https://docs.python.org/3/library/functools.html)"
   ]
  }
 ],
 "metadata": {
  "kernelspec": {
   "display_name": "Python 3 (ipykernel)",
   "language": "python",
   "name": "python3"
  },
  "language_info": {
   "codemirror_mode": {
    "name": "ipython",
    "version": 3
   },
   "file_extension": ".py",
   "mimetype": "text/x-python",
   "name": "python",
   "nbconvert_exporter": "python",
   "pygments_lexer": "ipython3",
   "version": "3.10.11"
  }
 },
 "nbformat": 4,
 "nbformat_minor": 5
}
